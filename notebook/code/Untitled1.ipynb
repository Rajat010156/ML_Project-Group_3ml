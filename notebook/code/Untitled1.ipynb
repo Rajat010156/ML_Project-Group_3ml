{
 "cells": [
  {
   "cell_type": "code",
   "execution_count": null,
   "id": "e1634a62-b3ab-480a-8f4d-e2090d869b96",
   "metadata": {},
   "outputs": [],
   "source": [
    "scp -r chest_xray sysadm@drona:~/Documents/3ml_kkm/env"
   ]
  }
 ],
 "metadata": {
  "kernelspec": {
   "display_name": "Python 3 (ipykernel)",
   "language": "python",
   "name": "python3"
  },
  "language_info": {
   "codemirror_mode": {
    "name": "ipython",
    "version": 3
   },
   "file_extension": ".py",
   "mimetype": "text/x-python",
   "name": "python",
   "nbconvert_exporter": "python",
   "pygments_lexer": "ipython3",
   "version": "3.8.10"
  }
 },
 "nbformat": 4,
 "nbformat_minor": 5
}
